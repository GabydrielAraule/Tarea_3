{
  "nbformat": 4,
  "nbformat_minor": 0,
  "metadata": {
    "colab": {
      "name": "Tarea3.ipynb",
      "provenance": [],
      "collapsed_sections": [],
      "authorship_tag": "ABX9TyMTPoi8B85W7b9g2KZk8oKp",
      "include_colab_link": true
    },
    "kernelspec": {
      "name": "python3",
      "display_name": "Python 3"
    },
    "language_info": {
      "name": "python"
    }
  },
  "cells": [
    {
      "cell_type": "markdown",
      "metadata": {
        "id": "view-in-github",
        "colab_type": "text"
      },
      "source": [
        "<a href=\"https://colab.research.google.com/github/GabydrielAraule/Tarea_3/blob/main/Tarea3.ipynb\" target=\"_parent\"><img src=\"https://colab.research.google.com/assets/colab-badge.svg\" alt=\"Open In Colab\"/></a>"
      ]
    },
    {
      "cell_type": "code",
      "metadata": {
        "id": "Z0-ev6K2c1jB",
        "colab": {
          "base_uri": "https://localhost:8080/"
        },
        "outputId": "879c40cf-722c-4794-c454-09aba2c26abd"
      },
      "source": [
        "menu_select={ \"datos_mesa\" : {\"mesa\" : 3, \"comensal\" : 2,} , \n",
        "             \"comida\" : {\"entrada\" : \"Ensalada verde\", \"medio\" : \"Crema de zanahoria\", \"Fuerte\" : \"Filete\", \"adicionales\" : \"Filete termino medio, la ensalada sin ningun tipo de semilla, Adereso Ranch.\"}\n",
        "                        }\n",
        "##menu_selects[mesa=3,comensal=2,entrada=\"Ensalada verde\", medio=\"crema de zanahoria\",fuerte=\"filete\", adicionales=\"Filete término medio, la ensalada sin ningun tipo de semilla, Adereso Ranch\"]\n",
        "    \n",
        "print(menu_select)   \n",
        "#print(estudiante['nombre']['nombres'][0].upper(), estudiante['nombre']['nombres'][1].upper())\n",
        "print(f\"Dealles:\")\n",
        "print(f\"\\t MESA:{ menu_select['datos_mesa']['mesa']}\")\n",
        "print(f\"\\t COMENSAL:{ menu_select['datos_mesa']['comensal']}\")\n",
        "print(f\"\\t ENTRADA:{ menu_select['comida']['entrada']}\")\n",
        "print(f\"\\t MEDIO:{ menu_select['comida']['medio']}\")\n",
        "print(f\"\\t FUERTE:{ menu_select['comida']['Fuerte']}\")\n",
        "print(f\"\\t ADICIONALES:{ menu_select['comida']['adicionales']}\")\n"
      ],
      "execution_count": 22,
      "outputs": [
        {
          "output_type": "stream",
          "name": "stdout",
          "text": [
            "{'datos_mesa': {'mesa': 3, 'comensal': 2}, 'comida': {'entrada': 'Ensalada verde', 'medio': 'Crema de zanahoria', 'Fuerte': 'Filete', 'adicionales': 'Filete termino medio, la ensalada sin ningun tipo de semilla, Adereso Ranch.'}}\n",
            "Dealles:\n",
            "\t MESA:3\n",
            "\t COMENSAL:2\n",
            "\t ENTRADA:Ensalada verde\n",
            "\t MEDIO:Crema de zanahoria\n",
            "\t FUERTE:Filete\n",
            "\t ADICIONALES:Filete termino medio, la ensalada sin ningun tipo de semilla, Adereso Ranch.\n"
          ]
        }
      ]
    }
  ]
}